{
  "metadata": {
    "kernelspec": {
      "language": "python",
      "display_name": "Python 3",
      "name": "python3"
    },
    "language_info": {
      "pygments_lexer": "ipython3",
      "nbconvert_exporter": "python",
      "version": "3.6.4",
      "file_extension": ".py",
      "codemirror_mode": {
        "name": "ipython",
        "version": 3
      },
      "name": "python",
      "mimetype": "text/x-python"
    },
    "kaggle": {
      "accelerator": "none",
      "dataSources": [
        {
          "sourceId": 1257,
          "sourceType": "datasetVersion",
          "datasetId": 659
        }
      ],
      "isInternetEnabled": true,
      "language": "python",
      "sourceType": "notebook",
      "isGpuEnabled": false
    },
    "colab": {
      "provenance": [],
      "include_colab_link": true
    }
  },
  "nbformat_minor": 0,
  "nbformat": 4,
  "cells": [
    {
      "cell_type": "markdown",
      "metadata": {
        "id": "view-in-github",
        "colab_type": "text"
      },
      "source": [
        "<a href=\"https://colab.research.google.com/github/hyphen-git/Python/blob/main/Copy_of_notebook0e5c68b873.ipynb\" target=\"_parent\"><img src=\"https://colab.research.google.com/assets/colab-badge.svg\" alt=\"Open In Colab\"/></a>"
      ]
    },
    {
      "source": [
        "\n",
        "# IMPORTANT: RUN THIS CELL IN ORDER TO IMPORT YOUR KAGGLE DATA SOURCES\n",
        "# TO THE CORRECT LOCATION (/kaggle/input) IN YOUR NOTEBOOK,\n",
        "# THEN FEEL FREE TO DELETE THIS CELL.\n",
        "# NOTE: THIS NOTEBOOK ENVIRONMENT DIFFERS FROM KAGGLE'S PYTHON\n",
        "# ENVIRONMENT SO THERE MAY BE MISSING LIBRARIES USED BY YOUR\n",
        "# NOTEBOOK.\n",
        "\n",
        "import os\n",
        "import sys\n",
        "from tempfile import NamedTemporaryFile\n",
        "from urllib.request import urlopen\n",
        "from urllib.parse import unquote, urlparse\n",
        "from urllib.error import HTTPError\n",
        "from zipfile import ZipFile\n",
        "import tarfile\n",
        "import shutil\n",
        "\n",
        "CHUNK_SIZE = 40960\n",
        "DATA_SOURCE_MAPPING = 'ads16-dataset:https%3A%2F%2Fstorage.googleapis.com%2Fkaggle-data-sets%2F659%2F1257%2Fbundle%2Farchive.zip%3FX-Goog-Algorithm%3DGOOG4-RSA-SHA256%26X-Goog-Credential%3Dgcp-kaggle-com%2540kaggle-161607.iam.gserviceaccount.com%252F20240131%252Fauto%252Fstorage%252Fgoog4_request%26X-Goog-Date%3D20240131T004219Z%26X-Goog-Expires%3D259200%26X-Goog-SignedHeaders%3Dhost%26X-Goog-Signature%3D4a970d34cbb0baf6f0210d68beb52e2556829695e20e35d73ba4ad1d0f3b98202a2d87006d3de6921dd2ad5847fb051fd29f127e513e6515a2d2dedc4cb6bb20c1d9c22aec12ea88c56c260b570bad1fa7b974559573ebb62fac67ec4cec1656f411513d0ffedad9e64447b268e854552f67f8af2eefe29f2c240b2f3e271a6a65ad54b4d2a5f66543a0c0f19263af94ab12bd532a35531fbc92de9e1a41dfaecfc3c1bce8e6515c4d80a91395d7600f50fac956ea2e9d49e01eec476f0344c0801190d52bec7980f7f34aded796f3d6b982e02c16ff2653db31063d293214f9ddf94198246a79a47d7fe2940eb3d0a8a17ca1b5a8c4ba5995ee6151c33be55f'\n",
        "\n",
        "KAGGLE_INPUT_PATH='/kaggle/input'\n",
        "KAGGLE_WORKING_PATH='/kaggle/working'\n",
        "KAGGLE_SYMLINK='kaggle'\n",
        "\n",
        "!umount /kaggle/input/ 2> /dev/null\n",
        "shutil.rmtree('/kaggle/input', ignore_errors=True)\n",
        "os.makedirs(KAGGLE_INPUT_PATH, 0o777, exist_ok=True)\n",
        "os.makedirs(KAGGLE_WORKING_PATH, 0o777, exist_ok=True)\n",
        "\n",
        "try:\n",
        "  os.symlink(KAGGLE_INPUT_PATH, os.path.join(\"..\", 'input'), target_is_directory=True)\n",
        "except FileExistsError:\n",
        "  pass\n",
        "try:\n",
        "  os.symlink(KAGGLE_WORKING_PATH, os.path.join(\"..\", 'working'), target_is_directory=True)\n",
        "except FileExistsError:\n",
        "  pass\n",
        "\n",
        "for data_source_mapping in DATA_SOURCE_MAPPING.split(','):\n",
        "    directory, download_url_encoded = data_source_mapping.split(':')\n",
        "    download_url = unquote(download_url_encoded)\n",
        "    filename = urlparse(download_url).path\n",
        "    destination_path = os.path.join(KAGGLE_INPUT_PATH, directory)\n",
        "    try:\n",
        "        with urlopen(download_url) as fileres, NamedTemporaryFile() as tfile:\n",
        "            total_length = fileres.headers['content-length']\n",
        "            print(f'Downloading {directory}, {total_length} bytes compressed')\n",
        "            dl = 0\n",
        "            data = fileres.read(CHUNK_SIZE)\n",
        "            while len(data) > 0:\n",
        "                dl += len(data)\n",
        "                tfile.write(data)\n",
        "                done = int(50 * dl / int(total_length))\n",
        "                sys.stdout.write(f\"\\r[{'=' * done}{' ' * (50-done)}] {dl} bytes downloaded\")\n",
        "                sys.stdout.flush()\n",
        "                data = fileres.read(CHUNK_SIZE)\n",
        "            if filename.endswith('.zip'):\n",
        "              with ZipFile(tfile) as zfile:\n",
        "                zfile.extractall(destination_path)\n",
        "            else:\n",
        "              with tarfile.open(tfile.name) as tarfile:\n",
        "                tarfile.extractall(destination_path)\n",
        "            print(f'\\nDownloaded and uncompressed: {directory}')\n",
        "    except HTTPError as e:\n",
        "        print(f'Failed to load (likely expired) {download_url} to path {destination_path}')\n",
        "        continue\n",
        "    except OSError as e:\n",
        "        print(f'Failed to load {download_url} to path {destination_path}')\n",
        "        continue\n",
        "\n",
        "print('Data source import complete.')\n"
      ],
      "metadata": {
        "id": "0K7c0TaC9448",
        "colab": {
          "base_uri": "https://localhost:8080/"
        },
        "outputId": "bf550ea7-681e-4daa-f06d-4dbabfeeba46"
      },
      "cell_type": "code",
      "outputs": [
        {
          "output_type": "stream",
          "name": "stdout",
          "text": [
            "Downloading ads16-dataset, 1581233701 bytes compressed\n",
            "[==================================================] 1581233701 bytes downloaded\n",
            "Downloaded and uncompressed: ads16-dataset\n",
            "Data source import complete.\n"
          ]
        }
      ],
      "execution_count": null
    },
    {
      "cell_type": "code",
      "source": [
        "# prompt: how to how to Resize Images: Ensure all images have the same dimensions. and save all the images in another folder\n",
        "\n",
        "from PIL import Image\n",
        "import os\n",
        "\n",
        "source_folder = '/content/images'\n",
        "target_folder = '/content/resized_images'\n",
        "\n",
        "target_size = (224, 224)  # Desired image size (width, height)\n",
        "\n",
        "# Create the target folder if it doesn't exist\n",
        "if not os.path.exists(target_folder):\n",
        "    os.makedirs(target_folder)\n",
        "\n",
        "# Iterate through all files in the source folder\n",
        "for filename in os.listdir(source_folder):\n",
        "    # Check if the file is an image\n",
        "    if filename.endswith(('.jpg', '.jpeg', '.png')):\n",
        "        # Open the image\n",
        "        image_path = os.path.join(source_folder, filename)\n",
        "        image = Image.open(image_path)\n",
        "\n",
        "        # Resize the image\n",
        "        resized_image = image.resize(target_size)\n",
        "\n",
        "        # Save the resized image to the target folder\n",
        "        new_path = os.path.join(target_folder, filename)\n",
        "        resized_image.save(new_path)\n",
        "\n",
        "print('All images resized and saved successfully.')"
      ],
      "metadata": {
        "colab": {
          "base_uri": "https://localhost:8080/"
        },
        "id": "zNP_ZeQJETgt",
        "outputId": "f3616312-4569-4238-b4ac-c604e4cd6703"
      },
      "execution_count": null,
      "outputs": [
        {
          "output_type": "stream",
          "name": "stdout",
          "text": [
            "All images resized and saved successfully.\n"
          ]
        }
      ]
    },
    {
      "cell_type": "code",
      "source": [
        "# prompt: how to perform normalization on images present in resizedimages folder\n",
        "\n",
        "import os\n",
        "from PIL import Image\n",
        "\n",
        "folder_path = '/content/resized_images'\n",
        "files = os.listdir(folder_path)\n",
        "\n",
        "for filename in files:\n",
        "  image_path = os.path.join(folder_path, filename)\n",
        "  image = Image.open(image_path)\n",
        "  image = image.convert('L')  # Convert to grayscale\n",
        "  normalized_image = image.point(lambda x: x / 255.0)  # Normalize pixel values\n",
        "  normalized_image.save(image_path)  # Save the normalized image\n",
        "\n",
        "print('Normalization complete.')\n"
      ],
      "metadata": {
        "colab": {
          "base_uri": "https://localhost:8080/"
        },
        "id": "5lipiAr1G4SJ",
        "outputId": "a239e961-164d-4fd7-8eaf-d7c4e32882d5"
      },
      "execution_count": null,
      "outputs": [
        {
          "output_type": "stream",
          "name": "stdout",
          "text": [
            "Normalization complete.\n"
          ]
        }
      ]
    },
    {
      "cell_type": "code",
      "source": [
        "import tensorflow as tf\n",
        "from tensorflow.keras.preprocessing.image import ImageDataGenerator\n",
        "import efficientnet.tfkeras as efn\n",
        "import glob\n",
        "import os\n",
        "import numpy as np\n",
        "import pandas as pd\n",
        "from sklearn.model_selection import train_test_split\n",
        "\n",
        "# Load the data\n",
        "data_dir = '/content/resized_images'\n",
        "\n",
        "# Get the list of image paths\n",
        "image_paths = glob.glob(os.path.join(data_dir, '*.jpg'))\n",
        "\n",
        "# Shuffle the image paths\n",
        "np.random.shuffle(image_paths)\n",
        "\n",
        "# Load labels based on the assumption that 'ad' images are labeled as 1 and 'non_ad' as 0\n",
        "labels = [1 if 'ad' in os.path.basename(path) else 0 for path in image_paths]\n",
        "\n",
        "# Split the data into training and validation sets using sklearn\n",
        "X_train, X_val, y_train, y_val = train_test_split(image_paths, labels, test_size=0.2, random_state=42)\n",
        "\n",
        "# Convert labels to numpy arrays\n",
        "y_train = np.array(y_train)\n",
        "y_val = np.array(y_val)\n",
        "\n",
        "# Image data generator with augmentation for training\n",
        "train_datagen = ImageDataGenerator(\n",
        "    rescale=1./255,\n",
        "    rotation_range=20,\n",
        "    width_shift_range=0.2,\n",
        "    height_shift_range=0.2,\n",
        "    shear_range=0.2,\n",
        "    zoom_range=0.2,\n",
        "    horizontal_flip=True,\n",
        ")\n",
        "\n",
        "# Image data generator for validation (only rescaling)\n",
        "val_datagen = ImageDataGenerator(rescale=1./255)\n",
        "\n",
        "# Batch size\n",
        "batch_size = 32\n",
        "\n",
        "# Create generators for training and validation\n",
        "train_generator = train_datagen.flow_from_dataframe(\n",
        "    pd.DataFrame({'image_path': X_train, 'label': y_train}),\n",
        "    x_col='image_path',\n",
        "    y_col='label',\n",
        "    target_size=(224, 224),\n",
        "    batch_size=batch_size,\n",
        "    class_mode='raw',\n",
        "    shuffle=True,\n",
        ")\n",
        "\n",
        "validation_generator = val_datagen.flow_from_dataframe(\n",
        "    pd.DataFrame({'image_path': X_val, 'label': y_val}),\n",
        "    x_col='image_path',\n",
        "    y_col='label',\n",
        "    target_size=(224, 224),\n",
        "    batch_size=batch_size,\n",
        "    class_mode='raw',\n",
        "    shuffle=False,\n",
        ")\n",
        "\n",
        "# Print the number of samples in training and validation sets\n",
        "print(\"Number of training samples:\", len(train_generator))\n",
        "print(\"Number of validation samples:\", len(validation_generator))\n",
        "\n",
        "# Get the number of classes (categories)\n",
        "num_classes = 1\n",
        "\n",
        "# Create the model\n",
        "model = tf.keras.Sequential([\n",
        "    efn.EfficientNetB0(input_shape=(224, 224, 3), include_top=False),\n",
        "    tf.keras.layers.GlobalAveragePooling2D(),\n",
        "    tf.keras.layers.Dense(num_classes, activation='sigmoid')\n",
        "])\n",
        "\n",
        "# Compile the model\n",
        "model.compile(optimizer='adam', loss='binary_crossentropy', metrics=['accuracy'])\n",
        "\n",
        "# Define early stopping\n",
        "early_stopping = tf.keras.callbacks.EarlyStopping(monitor='val_loss', patience=3, restore_best_weights=True)\n",
        "\n",
        "# Train the model\n",
        "model.fit(train_generator, epochs=20, validation_data=validation_generator, callbacks=[early_stopping])\n",
        "\n",
        "# Evaluate the model\n",
        "loss, accuracy = model.evaluate(validation_generator)\n",
        "print(f'Loss: {loss}, Accuracy: {accuracy}')\n",
        "\n",
        "# Save the model\n",
        "# Save the model in native Keras format\n",
        "model.save('ad_classification_model_keras')\n"
      ],
      "metadata": {
        "colab": {
          "base_uri": "https://localhost:8080/"
        },
        "id": "AU86G8npSkM1",
        "outputId": "56888f9d-f40a-423e-94a9-a4eeb978ae7e"
      },
      "execution_count": null,
      "outputs": [
        {
          "output_type": "stream",
          "name": "stdout",
          "text": [
            "Found 8 validated image filenames.\n",
            "Found 2 validated image filenames.\n",
            "Number of training samples: 1\n",
            "Number of validation samples: 1\n",
            "Epoch 1/20\n",
            "1/1 [==============================] - 26s 26s/step - loss: 0.7948 - accuracy: 0.2500 - val_loss: 0.5985 - val_accuracy: 1.0000\n",
            "Epoch 2/20\n",
            "1/1 [==============================] - 2s 2s/step - loss: 0.5939 - accuracy: 0.7500 - val_loss: 0.5737 - val_accuracy: 1.0000\n",
            "Epoch 3/20\n",
            "1/1 [==============================] - 2s 2s/step - loss: 0.6193 - accuracy: 0.7500 - val_loss: 0.5857 - val_accuracy: 1.0000\n",
            "Epoch 4/20\n",
            "1/1 [==============================] - 2s 2s/step - loss: 1.0215 - accuracy: 0.5000 - val_loss: 0.5898 - val_accuracy: 1.0000\n",
            "Epoch 5/20\n",
            "1/1 [==============================] - 3s 3s/step - loss: 0.8560 - accuracy: 0.7500 - val_loss: 0.5539 - val_accuracy: 1.0000\n",
            "Epoch 6/20\n",
            "1/1 [==============================] - 2s 2s/step - loss: 0.5929 - accuracy: 0.7500 - val_loss: 0.5200 - val_accuracy: 1.0000\n",
            "Epoch 7/20\n",
            "1/1 [==============================] - 2s 2s/step - loss: 0.6298 - accuracy: 0.6250 - val_loss: 0.5303 - val_accuracy: 1.0000\n",
            "Epoch 8/20\n",
            "1/1 [==============================] - 2s 2s/step - loss: 0.6162 - accuracy: 0.7500 - val_loss: 0.5430 - val_accuracy: 1.0000\n",
            "Epoch 9/20\n",
            "1/1 [==============================] - 2s 2s/step - loss: 0.3946 - accuracy: 0.7500 - val_loss: 0.5543 - val_accuracy: 1.0000\n",
            "1/1 [==============================] - 0s 136ms/step - loss: 0.5200 - accuracy: 1.0000\n",
            "Loss: 0.5199946165084839, Accuracy: 1.0\n"
          ]
        },
        {
          "output_type": "stream",
          "name": "stderr",
          "text": [
            "WARNING:absl:`efficientnet-b0_input` is not a valid tf.function parameter name. Sanitizing to `efficientnet_b0_input`.\n",
            "WARNING:absl:`efficientnet-b0_input` is not a valid tf.function parameter name. Sanitizing to `efficientnet_b0_input`.\n",
            "WARNING:absl:`efficientnet-b0_input` is not a valid tf.function parameter name. Sanitizing to `efficientnet_b0_input`.\n"
          ]
        }
      ]
    },
    {
      "cell_type": "code",
      "source": [
        "# ... (Previous code for training the model)\n",
        "\n",
        "# Evaluate the model\n",
        "loss, accuracy = model.evaluate(validation_generator)\n",
        "print(f'Loss: {loss}, Accuracy: {accuracy}')\n",
        "\n",
        "# Save the model\n",
        "model.save('ad_classification_model_keras')\n",
        "\n",
        "# Predict on the validation set\n",
        "predictions = model.predict(validation_generator)\n",
        "\n",
        "# Define a threshold (e.g., 0.5)\n",
        "threshold = 0.5\n",
        "\n",
        "# Convert probabilities to binary predictions\n",
        "binary_predictions = (predictions > threshold).astype(int)\n",
        "\n",
        "# Display the binary predictions\n",
        "print(\"Binary Predictions:\", binary_predictions.flatten())\n",
        "\n",
        "# Create a DataFrame with image paths, true labels, and binary predictions\n",
        "result_df = pd.DataFrame({\n",
        "    'Image Path': X_val,\n",
        "    'True Label': y_val,\n",
        "    'Predicted Label': binary_predictions.flatten()\n",
        "})\n",
        "\n",
        "# Display the DataFrame\n",
        "print(result_df)\n"
      ],
      "metadata": {
        "colab": {
          "base_uri": "https://localhost:8080/"
        },
        "id": "fWxtlADMTwwM",
        "outputId": "437e1fd3-2105-4033-9ffa-8c54de510cf0"
      },
      "execution_count": null,
      "outputs": [
        {
          "output_type": "stream",
          "name": "stdout",
          "text": [
            "1/1 [==============================] - 0s 186ms/step - loss: 0.5200 - accuracy: 1.0000\n",
            "Loss: 0.5199946165084839, Accuracy: 1.0\n"
          ]
        },
        {
          "output_type": "stream",
          "name": "stderr",
          "text": [
            "WARNING:absl:`efficientnet-b0_input` is not a valid tf.function parameter name. Sanitizing to `efficientnet_b0_input`.\n",
            "WARNING:absl:`efficientnet-b0_input` is not a valid tf.function parameter name. Sanitizing to `efficientnet_b0_input`.\n"
          ]
        },
        {
          "output_type": "stream",
          "name": "stdout",
          "text": [
            "1/1 [==============================] - 2s 2s/step\n",
            "Binary Predictions: [0 0]\n",
            "                                          Image Path  True Label  \\\n",
            "0  /content/resized_images/ravi-sharma-3Qq5k5P982...           0   \n",
            "1  /content/resized_images/mitchell-orr-koRDP2yAQ...           0   \n",
            "\n",
            "   Predicted Label  \n",
            "0                0  \n",
            "1                0  \n"
          ]
        }
      ]
    },
    {
      "cell_type": "code",
      "source": [
        "import matplotlib.pyplot as plt\n",
        "from tensorflow.keras.preprocessing import image\n",
        "\n",
        "# ... (Previous code for training the model)\n",
        "\n",
        "# Evaluate the model\n",
        "loss, accuracy = model.evaluate(validation_generator)\n",
        "print(f'Loss: {loss}, Accuracy: {accuracy}')\n",
        "\n",
        "# Save the model\n",
        "model.save('ad_classification_model_keras')\n",
        "\n",
        "# Predict on the validation set\n",
        "predictions = model.predict(validation_generator)\n",
        "\n",
        "# Define a threshold (e.g., 0.5)\n",
        "threshold = 0.5\n",
        "\n",
        "# Convert probabilities to binary predictions\n",
        "binary_predictions = (predictions > threshold).astype(int)\n",
        "\n",
        "# Display the predictions along with the images\n",
        "for i in range(len(X_val)):\n",
        "    img_path = X_val[i]\n",
        "    true_label = y_val[i]\n",
        "    predicted_label = binary_predictions[i]\n",
        "\n",
        "    # Load and display the image\n",
        "    img = image.load_img(img_path, target_size=(224, 224))\n",
        "    plt.imshow(img)\n",
        "    plt.axis('off')\n",
        "\n",
        "    # Display true and predicted labels\n",
        "    plt.title(f'True: {true_label}, Predicted: {predicted_label}')\n",
        "    plt.show()\n"
      ],
      "metadata": {
        "colab": {
          "base_uri": "https://localhost:8080/",
          "height": 893
        },
        "id": "LGvUPHz4UDEN",
        "outputId": "9e04bb76-f1e4-4cf2-f315-03e08d53b18a"
      },
      "execution_count": null,
      "outputs": [
        {
          "output_type": "stream",
          "name": "stdout",
          "text": [
            "1/1 [==============================] - 0s 387ms/step - loss: 0.5200 - accuracy: 1.0000\n",
            "Loss: 0.5199946165084839, Accuracy: 1.0\n",
            "1/1 [==============================] - 0s 224ms/step\n"
          ]
        },
        {
          "output_type": "display_data",
          "data": {
            "text/plain": [
              "<Figure size 640x480 with 1 Axes>"
            ],
            "image/png": "[encoded data removed]"
          },
          "metadata": {}
        },
        {
          "output_type": "display_data",
          "data": {
            "text/plain": [
              "<Figure size 640x480 with 1 Axes>"
            ],
            "image/png": "[encoded data removed]"
          },
          "metadata": {}
        }
      ]
    },
    {
      "cell_type": "code",
      "source": [
        "import matplotlib.pyplot as plt\n",
        "from tensorflow.keras.preprocessing import image\n",
        "\n",
        "# ... (Previous code for training the model)\n",
        "\n",
        "# Evaluate the model\n",
        "loss, accuracy = model.evaluate(validation_generator)\n",
        "print(f'Loss: {loss}, Accuracy: {accuracy}')\n",
        "\n",
        "# Save the model\n",
        "model.save('ad_classification_model_keras')\n",
        "\n",
        "# Predict on the validation set\n",
        "predictions = model.predict(validation_generator)\n",
        "\n",
        "# Define a threshold (e.g., 0.5)\n",
        "threshold = 0.5\n",
        "\n",
        "# Convert probabilities to binary predictions\n",
        "binary_predictions = (predictions > threshold).astype(int)\n",
        "\n",
        "# Display some images along with their true and predicted labels\n",
        "num_display = min(5, len(X_val))  # Display at most 5 images\n",
        "\n",
        "for i in range(num_display):\n",
        "    img_path = X_val[i]\n",
        "    true_label = y_val[i]\n",
        "    predicted_label = binary_predictions[i]\n",
        "\n",
        "    # Load and display the image\n",
        "    img = image.load_img(img_path, target_size=(224, 224))\n",
        "    plt.imshow(img)\n",
        "    plt.axis('off')\n",
        "\n",
        "    # Display true and predicted labels\n",
        "    plt.title(f'True: {true_label}, Predicted: {predicted_label}')\n",
        "    plt.show()\n"
      ],
      "metadata": {
        "colab": {
          "base_uri": "https://localhost:8080/",
          "height": 893
        },
        "id": "91l11D5VUZ1n",
        "outputId": "6bf80dcd-bc8c-4939-bb24-f083c3a2e407"
      },
      "execution_count": null,
      "outputs": [
        {
          "output_type": "stream",
          "name": "stdout",
          "text": [
            "1/1 [==============================] - 0s 330ms/step - loss: 0.5200 - accuracy: 1.0000\n",
            "Loss: 0.5199946165084839, Accuracy: 1.0\n",
            "1/1 [==============================] - 0s 236ms/step\n"
          ]
        },
        {
          "output_type": "display_data",
          "data": {
            "text/plain": [
              "<Figure size 640x480 with 1 Axes>"
            ],
            "image/png": "[encoded data removed]"
          },
          "metadata": {}
        },
        {
          "output_type": "display_data",
          "data": {
            "text/plain": [
              "<Figure size 640x480 with 1 Axes>"
            ],
            "image/png": "[encoded data removed]"
          },
          "metadata": {}
        }
      ]
    },
    {
      "cell_type": "code",
      "source": [
        "import matplotlib.pyplot as plt\n",
        "from tensorflow.keras.preprocessing import image\n",
        "import numpy as np\n",
        "\n",
        "# ... (Previous code for training the model)\n",
        "\n",
        "# Evaluate the model\n",
        "loss, accuracy = model.evaluate(validation_generator)\n",
        "print(f'Loss: {loss}, Accuracy: {accuracy}')\n",
        "\n",
        "# Save the model\n",
        "model.save('ad_classification_model_keras')\n",
        "\n",
        "# Predict on the validation set\n",
        "predictions = model.predict(validation_generator)\n",
        "\n",
        "# Define a threshold (e.g., 0.5)\n",
        "threshold = 0.5\n",
        "\n",
        "# Convert probabilities to binary predictions\n",
        "binary_predictions = (predictions > threshold).astype(int)\n",
        "\n",
        "# Display some images along with their true and predicted labels\n",
        "num_display = min(5, len(X_val))  # Display at most 5 images\n",
        "\n",
        "for i in range(num_display):\n",
        "    img_path = X_val[i]\n",
        "    true_label = y_val[i]\n",
        "    predicted_label = binary_predictions[i]\n",
        "\n",
        "    # Load and preprocess the image\n",
        "    img = image.load_img(img_path, target_size=(224, 224))\n",
        "    img_array = image.img_to_array(img)\n",
        "    img_array = np.expand_dims(img_array, axis=0)\n",
        "    img_array /= 255.0  # Normalize pixel values\n",
        "\n",
        "    # Display the preprocessed image\n",
        "    plt.imshow(img_array[0])\n",
        "    plt.axis('off')\n",
        "\n",
        "    # Display true and predicted labels\n",
        "    plt.title(f'True: {true_label}, Predicted: {predicted_label}')\n",
        "    plt.show()\n",
        "\n",
        "\n"
      ],
      "metadata": {
        "colab": {
          "base_uri": "https://localhost:8080/",
          "height": 893
        },
        "id": "rhs2kzWSUw4w",
        "outputId": "34aed103-bbcb-474b-f7ed-09f8ed8cf2f8"
      },
      "execution_count": null,
      "outputs": [
        {
          "output_type": "stream",
          "name": "stdout",
          "text": [
            "1/1 [==============================] - 0s 145ms/step - loss: 0.5200 - accuracy: 1.0000\n",
            "Loss: 0.5199946165084839, Accuracy: 1.0\n",
            "1/1 [==============================] - 0s 219ms/step\n"
          ]
        },
        {
          "output_type": "display_data",
          "data": {
            "text/plain": [
              "<Figure size 640x480 with 1 Axes>"
            ],
            "image/png": "[encoded data removed]"
          },
          "metadata": {}
        },
        {
          "output_type": "display_data",
          "data": {
            "text/plain": [
              "<Figure size 640x480 with 1 Axes>"
            ],
            "image/png": "[encoded data removed]"
          },
          "metadata": {}
        }
      ]
    },
    {
      "cell_type": "code",
      "source": [
        "import os\n",
        "import numpy as np\n",
        "from tensorflow.keras.preprocessing import image\n",
        "from tensorflow.keras.applications.vgg16 import VGG16, preprocess_input, decode_predictions\n",
        "\n",
        "# Load the pre-trained VGG16 model\n",
        "model = VGG16(weights='imagenet')\n",
        "\n",
        "# Path to the folder containing resized images\n",
        "folder_path = '/content/resized_images'\n",
        "\n",
        "# Function to predict whether an image is an ad or non-ad\n",
        "def predict_image_category(image_path):\n",
        "    img = image.load_img(image_path, target_size=(224, 224))\n",
        "    img_array = image.img_to_array(img)\n",
        "    img_array = np.expand_dims(img_array, axis=0)\n",
        "    img_array = preprocess_input(img_array)\n",
        "\n",
        "    predictions = model.predict(img_array)\n",
        "    decoded_predictions = decode_predictions(predictions)\n",
        "\n",
        "    # Check if the prediction contains keywords related to ads (you may need to customize this based on the model's predictions)\n",
        "    ad_keywords = [\"advertisement\", \"poster\", \"billboard\", \"banner\"]\n",
        "    for _, label, _ in decoded_predictions[0]:\n",
        "        if any(keyword in label.lower() for keyword in ad_keywords):\n",
        "            return \"Ad\"\n",
        "\n",
        "    return \"Non-Ad\"\n",
        "\n",
        "# Iterate through all images in the folder\n",
        "for filename in os.listdir(folder_path):\n",
        "    if filename.endswith(\".jpg\") or filename.endswith(\".png\"):  # Assuming images are in JPG or PNG format\n",
        "        image_path = os.path.join(folder_path, filename)\n",
        "        category = predict_image_category(image_path)\n",
        "        print(f\"{filename}: {category}\")\n"
      ],
      "metadata": {
        "colab": {
          "base_uri": "https://localhost:8080/"
        },
        "id": "--hMClIRXQRE",
        "outputId": "c35c6920-2dab-4c41-90ad-91a73a63e840"
      },
      "execution_count": null,
      "outputs": [
        {
          "output_type": "stream",
          "name": "stdout",
          "text": [
            "Downloading data from https://storage.googleapis.com/tensorflow/keras-applications/vgg16/vgg16_weights_tf_dim_ordering_tf_kernels.h5\n",
            "553467096/553467096 [==============================] - 8s 0us/step\n",
            "1/1 [==============================] - 1s 727ms/step\n",
            "Downloading data from https://storage.googleapis.com/download.tensorflow.org/data/imagenet_class_index.json\n",
            "35363/35363 [==============================] - 0s 0us/step\n",
            "nasa-hubble-space-telescope-waDAyTyGqXM-unsplash.jpg: Non-Ad\n",
            "1/1 [==============================] - 1s 530ms/step\n",
            "11.png: Non-Ad\n",
            "1/1 [==============================] - 1s 526ms/step\n",
            "mieke-campbell-Co3Qv42iieM-unsplash.jpg: Non-Ad\n",
            "1/1 [==============================] - 1s 533ms/step\n",
            "15.png: Non-Ad\n",
            "1/1 [==============================] - 1s 521ms/step\n",
            "4.png: Non-Ad\n",
            "1/1 [==============================] - 1s 533ms/step\n",
            "uran-wang-0igggrtWCKg-unsplash.jpg: Non-Ad\n",
            "1/1 [==============================] - 1s 511ms/step\n",
            "8.png: Non-Ad\n",
            "1/1 [==============================] - 1s 526ms/step\n",
            "16.png: Non-Ad\n",
            "1/1 [==============================] - 1s 533ms/step\n",
            "9.png: Non-Ad\n",
            "1/1 [==============================] - 1s 531ms/step\n",
            "2.png: Non-Ad\n",
            "1/1 [==============================] - 1s 759ms/step\n",
            "mitchell-orr-koRDP2yAQNk-unsplash.jpg: Non-Ad\n",
            "1/1 [==============================] - 1s 718ms/step\n",
            "7.png: Non-Ad\n",
            "1/1 [==============================] - 1s 618ms/step\n",
            "evan-wise-JXGoQadS98I-unsplash.jpg: Non-Ad\n",
            "1/1 [==============================] - 1s 1s/step\n",
            "14.png: Non-Ad\n",
            "1/1 [==============================] - 1s 1s/step\n",
            "ravi-sharma-3Qq5k5P982w-unsplash.jpg: Non-Ad\n",
            "1/1 [==============================] - 1s 807ms/step\n",
            "1.png: Non-Ad\n",
            "1/1 [==============================] - 1s 526ms/step\n",
            "jonathan-borba-qRppGGRmiYM-unsplash.jpg: Non-Ad\n",
            "1/1 [==============================] - 1s 521ms/step\n",
            "thimo-van-leeuwen-vR3wCLEBMtE-unsplash.jpg: Non-Ad\n",
            "1/1 [==============================] - 1s 531ms/step\n",
            "3.png: Non-Ad\n",
            "1/1 [==============================] - 1s 517ms/step\n",
            "6.png: Non-Ad\n",
            "1/1 [==============================] - 1s 526ms/step\n",
            "5.png: Non-Ad\n",
            "1/1 [==============================] - 1s 520ms/step\n",
            "lena-polishko-L7o-tm85hto-unsplash.jpg: Non-Ad\n",
            "1/1 [==============================] - 1s 527ms/step\n",
            "10.png: Non-Ad\n",
            "1/1 [==============================] - 1s 523ms/step\n",
            "13.png: Non-Ad\n",
            "1/1 [==============================] - 1s 522ms/step\n",
            "heylisadventure-SALjo72wHRk-unsplash.jpg: Non-Ad\n",
            "1/1 [==============================] - 1s 536ms/step\n",
            "12.png: Non-Ad\n"
          ]
        }
      ]
    },
    {
      "cell_type": "code",
      "source": [
        "import os\n",
        "import numpy as np\n",
        "from tensorflow.keras.preprocessing import image\n",
        "from tensorflow.keras.applications.vgg16 import VGG16, preprocess_input, decode_predictions\n",
        "\n",
        "# Load the pre-trained VGG16 model\n",
        "model = VGG16(weights='imagenet')\n",
        "\n",
        "def predict_image_category(image_path):\n",
        "    img = image.load_img(image_path, target_size=(224, 224))\n",
        "    img_array = image.img_to_array(img)\n",
        "    img_array = np.expand_dims(img_array, axis=0)\n",
        "    img_array = preprocess_input(img_array)\n",
        "\n",
        "    predictions = model.predict(img_array)\n",
        "    decoded_predictions = decode_predictions(predictions)\n",
        "\n",
        "    # Display the top prediction\n",
        "    print(f\"Top Prediction: {decoded_predictions[0][0][1]} ({decoded_predictions[0][0][2]:.2%})\")\n",
        "\n",
        "    # Define keywords for ad classification\n",
        "    ad_keywords = [\"advertisement\", \"poster\", \"billboard\", \"banner\"]\n",
        "\n",
        "    # Check if any of the top predictions contain ad keywords\n",
        "    if any(keyword in decoded_predictions[0][0][1].lower() for keyword in ad_keywords):\n",
        "        return \"Ad\"\n",
        "    else:\n",
        "        return \"Non-Ad\"\n",
        "\n",
        "# Specify the path to the folder containing images\n",
        "folder_path = '/content/resized_images'  # Update with the actual path\n",
        "\n",
        "# Iterate over all images in the folder\n",
        "for filename in os.listdir(folder_path):\n",
        "    if filename.endswith(\".jpg\"):\n",
        "        image_path = os.path.join(folder_path, filename)\n",
        "        result = predict_image_category(image_path)\n",
        "        print(f\"{filename}: {result}\")\n"
      ],
      "metadata": {
        "colab": {
          "base_uri": "https://localhost:8080/"
        },
        "id": "z3RWiBBRYB8v",
        "outputId": "90a9835f-5ad2-45d0-dbbc-b45f4d57240f"
      },
      "execution_count": null,
      "outputs": [
        {
          "output_type": "stream",
          "name": "stdout",
          "text": [
            "1/1 [==============================] - 1s 705ms/step\n",
            "Top Prediction: matchstick (7.62%)\n",
            "nasa-hubble-space-telescope-waDAyTyGqXM-unsplash.jpg: Non-Ad\n",
            "1/1 [==============================] - 1s 829ms/step\n",
            "Top Prediction: matchstick (7.62%)\n",
            "mieke-campbell-Co3Qv42iieM-unsplash.jpg: Non-Ad\n",
            "1/1 [==============================] - 1s 883ms/step\n",
            "Top Prediction: matchstick (7.62%)\n",
            "uran-wang-0igggrtWCKg-unsplash.jpg: Non-Ad\n",
            "1/1 [==============================] - 1s 776ms/step\n",
            "Top Prediction: matchstick (7.62%)\n",
            "mitchell-orr-koRDP2yAQNk-unsplash.jpg: Non-Ad\n",
            "1/1 [==============================] - 1s 522ms/step\n",
            "Top Prediction: matchstick (7.62%)\n",
            "evan-wise-JXGoQadS98I-unsplash.jpg: Non-Ad\n",
            "1/1 [==============================] - 1s 513ms/step\n",
            "Top Prediction: matchstick (7.62%)\n",
            "ravi-sharma-3Qq5k5P982w-unsplash.jpg: Non-Ad\n",
            "1/1 [==============================] - 1s 532ms/step\n",
            "Top Prediction: matchstick (7.62%)\n",
            "jonathan-borba-qRppGGRmiYM-unsplash.jpg: Non-Ad\n",
            "1/1 [==============================] - 1s 526ms/step\n",
            "Top Prediction: matchstick (7.62%)\n",
            "thimo-van-leeuwen-vR3wCLEBMtE-unsplash.jpg: Non-Ad\n",
            "1/1 [==============================] - 1s 523ms/step\n",
            "Top Prediction: matchstick (7.62%)\n",
            "lena-polishko-L7o-tm85hto-unsplash.jpg: Non-Ad\n",
            "1/1 [==============================] - 1s 525ms/step\n",
            "Top Prediction: matchstick (7.62%)\n",
            "heylisadventure-SALjo72wHRk-unsplash.jpg: Non-Ad\n"
          ]
        }
      ]
    }
  ]
}